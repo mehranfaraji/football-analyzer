{
 "cells": [
  {
   "cell_type": "code",
   "execution_count": null,
   "metadata": {},
   "outputs": [],
   "source": [
    "# !pip install roboflow"
   ]
  },
  {
   "cell_type": "code",
   "execution_count": 6,
   "metadata": {},
   "outputs": [
    {
     "name": "stdout",
     "output_type": "stream",
     "text": [
      "loading Roboflow workspace...\n",
      "loading Roboflow project...\n"
     ]
    }
   ],
   "source": [
    "from roboflow import Roboflow\n",
    "rf = Roboflow(api_key=\"YOUR-API-KEY\")\n",
    "project = rf.workspace(\"roboflow-jvuqo\").project(\"football-players-detection-3zvbc\")\n",
    "version = project.version(2)\n",
    "dataset = version.download(\"yolov11\")\n"
   ]
  },
  {
   "cell_type": "code",
   "execution_count": 10,
   "metadata": {},
   "outputs": [
    {
     "data": {
      "text/plain": [
       "'d:\\\\projects\\\\football-analysis\\\\train_YOLOV11\\\\football-players-detection-2'"
      ]
     },
     "execution_count": 10,
     "metadata": {},
     "output_type": "execute_result"
    }
   ],
   "source": [
    "dataset.location"
   ]
  },
  {
   "cell_type": "code",
   "execution_count": 34,
   "metadata": {},
   "outputs": [],
   "source": [
    "import os \n",
    "\n",
    "def remove_goalkeepers():\n",
    "    folders = [\"train\", \"valid\", \"test\"]\n",
    "\n",
    "    for folder in folders:\n",
    "        labels = os.path.join(dataset.location, folder + \"\\\\labels\")\n",
    "        for file in os.listdir(labels):\n",
    "            file_path = os.path.join(labels, file)\n",
    "            lines = []\n",
    "            with open(file_path, \"r\") as f:\n",
    "                for line in f:\n",
    "                    if line[0] == \"2\":\n",
    "                        line = \"1\" + line[1:]\n",
    "                    elif line[0] == \"3\":\n",
    "                        line = \"2\" + line[1:]\n",
    "                    lines.append(line)\n",
    "            with open(file_path, \"w\") as f:\n",
    "                f.writelines(lines)\n",
    "\n",
    "    print(\"Warning! Don't forget to edith the yml file manually!\")\n",
    "    print(\"change nc: 3 and remove 'goalkeeper' from the names list.\")"
   ]
  },
  {
   "cell_type": "code",
   "execution_count": 35,
   "metadata": {},
   "outputs": [],
   "source": [
    "remove_goalkeepers()"
   ]
  },
  {
   "cell_type": "code",
   "execution_count": null,
   "metadata": {},
   "outputs": [],
   "source": [
    "!yolo task=detect mode=train data={dataset.location}/data.yaml model=yolo11x.pt epochs=100 imgsz=640 batch=8"
   ]
  }
 ],
 "metadata": {
  "kernelspec": {
   "display_name": ".venv",
   "language": "python",
   "name": "python3"
  },
  "language_info": {
   "codemirror_mode": {
    "name": "ipython",
    "version": 3
   },
   "file_extension": ".py",
   "mimetype": "text/x-python",
   "name": "python",
   "nbconvert_exporter": "python",
   "pygments_lexer": "ipython3",
   "version": "3.12.6"
  }
 },
 "nbformat": 4,
 "nbformat_minor": 2
}
